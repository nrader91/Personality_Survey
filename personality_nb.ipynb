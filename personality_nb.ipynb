{
 "cells": [
  {
   "cell_type": "code",
   "execution_count": 1,
   "id": "9fd6902a-ba9c-48b3-b1b6-131f26aac769",
   "metadata": {},
   "outputs": [
    {
     "name": "stdout",
     "output_type": "stream",
     "text": [
      "What's your favorite TV Show?\n"
     ]
    }
   ],
   "source": [
    "print(\"What's your favorite TV Show?\")\n"
   ]
  },
  {
   "cell_type": "code",
   "execution_count": 2,
   "id": "10759f70-420e-417a-bb9c-6730addaf754",
   "metadata": {},
   "outputs": [
    {
     "name": "stdin",
     "output_type": "stream",
     "text": [
      "What's your favorite TV show? game of thrones\n"
     ]
    },
    {
     "data": {
      "text/plain": [
       "'game of thrones'"
      ]
     },
     "execution_count": 2,
     "metadata": {},
     "output_type": "execute_result"
    }
   ],
   "source": [
    "input(\"What's your favorite TV show?\")"
   ]
  },
  {
   "cell_type": "code",
   "execution_count": 3,
   "id": "ca519cd0-10c7-474c-bf7f-8db60cda05cb",
   "metadata": {},
   "outputs": [
    {
     "ename": "SyntaxError",
     "evalue": "invalid syntax (Temp/ipykernel_19636/199871489.py, line 6)",
     "output_type": "error",
     "traceback": [
      "\u001b[1;36m  File \u001b[1;32m\"C:\\Users\\wolfu\\AppData\\Local\\Temp/ipykernel_19636/199871489.py\"\u001b[1;36m, line \u001b[1;32m6\u001b[0m\n\u001b[1;33m    elif show == \"Breaking Bad\":\u001b[0m\n\u001b[1;37m    ^\u001b[0m\n\u001b[1;31mSyntaxError\u001b[0m\u001b[1;31m:\u001b[0m invalid syntax\n"
     ]
    }
   ],
   "source": [
    "show = input(\"What's your favorite TV show?\")\n",
    "\n",
    "if show == \"The Office\":\n",
    "    print(\"Bears, Beets, Battlestar Galactica.\")\n",
    "\n",
    "    elif show == \"Breaking Bad\":\n",
    "        print(\"You know my name... Heisenburg\")\n",
    "\n",
    "    elif show == \"The Flash\":\n",
    "        print(\"I hear that's a great one, but I haven't seen it yet.\")\n",
    "\n",
    "    else:\n",
    "        print(\"Your favorite show is \" + show)        \n",
    "\n"
   ]
  },
  {
   "cell_type": "code",
   "execution_count": null,
   "id": "1cb19f8f-ad2f-4880-ba04-aff942833d44",
   "metadata": {},
   "outputs": [],
   "source": []
  }
 ],
 "metadata": {
  "kernelspec": {
   "display_name": "Python 3 (ipykernel)",
   "language": "python",
   "name": "python3"
  },
  "language_info": {
   "codemirror_mode": {
    "name": "ipython",
    "version": 3
   },
   "file_extension": ".py",
   "mimetype": "text/x-python",
   "name": "python",
   "nbconvert_exporter": "python",
   "pygments_lexer": "ipython3",
   "version": "3.8.5"
  }
 },
 "nbformat": 4,
 "nbformat_minor": 5
}
